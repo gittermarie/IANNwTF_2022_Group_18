{
 "cells": [
  {
   "cell_type": "markdown",
   "id": "fa3b2c0e",
   "metadata": {},
   "source": [
    "# Homework 09"
   ]
  },
  {
   "cell_type": "code",
   "execution_count": 7,
   "id": "e99216cf",
   "metadata": {},
   "outputs": [],
   "source": [
    "import tensorflow_datasets as tfds\n",
    "import tensorflow as tf\n",
    "from tensorflow.keras import layers\n",
    "from tensorflow.keras.datasets import mnist\n",
    "from tensorflow.keras.layers import Dense, Conv2D, AveragePooling2D, TimeDistributed, LSTM, GlobalAvgPool2D, AbstractRNNCell, MaxPooling2D, RNN\n",
    "import numpy as np\n",
    "import matplotlib.pyplot as plt\n",
    "import datetime\n",
    "import tqdm\n",
    "# magic line only needed in jupyter notebooks!\n",
    "%reload_ext tensorboard"
   ]
  },
  {
   "cell_type": "markdown",
   "id": "8e149696",
   "metadata": {},
   "source": [
    "### Dowloading Data for the Task from the Quick, Draw! Dataset"
   ]
  },
  {
   "cell_type": "code",
   "execution_count": 8,
   "id": "0d8dd519",
   "metadata": {},
   "outputs": [],
   "source": [
    "import os\n",
    "import glob\n",
    "#import imageio\n",
    "import matplotlib.pyplot as plt\n",
    "import numpy as np\n",
    "import PIL\n",
    "from tensorflow.keras import layers\n",
    "import time\n",
    "\n",
    "from IPython import display"
   ]
  },
  {
   "cell_type": "code",
   "execution_count": 9,
   "id": "237a96af",
   "metadata": {},
   "outputs": [
    {
     "name": "stdout",
     "output_type": "stream",
     "text": [
      "[b'aircraft carrier', b'airplane', b'alarm clock', b'ambulance', b'angel', b'animal migration', b'ant', b'anvil', b'apple', b'arm']\n"
     ]
    }
   ],
   "source": [
    "import urllib\n",
    "categories = [line.rstrip(b'\\n') for line in urllib.request.urlopen('https://raw.githubusercontent.com/googlecreativelab/quickdraw-dataset/master/categories.txt')]\n",
    "print(categories[:10])\n",
    "category = 'candle'"
   ]
  },
  {
   "cell_type": "code",
   "execution_count": 10,
   "id": "3f5a81ba",
   "metadata": {},
   "outputs": [],
   "source": [
    "# skip this cell if you already downloaded the data/you have the folder containing the data\n",
    "\n",
    "# Creates a folder to download the original drawings into.\n",
    "# We chose to use the numpy format : 1x784 pixel vectors, with values going from 0 (white) to 255 (black). We reshape them later to 28x28 grids and normalize the pixel intensity to [-1, 1]\n",
    "# We reshape them later to 28x28 grids and normalize the pixel intensity to [-1, 1]\n",
    "\n",
    "#if not os.path.isdir('npy_files'):\n",
    "    #os.mkdir('npy_files')\n",
    "    \n",
    "#url = f'https://storage.googleapis.com/quickdraw_dataset/full/numpy_bitmap/{category}.npy'  \n",
    "#urllib.request.urlretrieve(url, f'npy_files/{category}.npy')"
   ]
  },
  {
   "cell_type": "code",
   "execution_count": 14,
   "id": "1842cfa2",
   "metadata": {},
   "outputs": [
    {
     "name": "stdout",
     "output_type": "stream",
     "text": [
      "141545 images to train on\n"
     ]
    }
   ],
   "source": [
    "# load images from newly created local folder\n",
    "images = np.load(f'npy_files/{category}.npy')\n",
    "print(f'{len(images)} images to train on')\n",
    "\n",
    "# amount of images for training\n",
    "train_images = images[:10000]\n",
    "# subset of the images for testing\n",
    "test_images = images[15000:17500]"
   ]
  },
  {
   "cell_type": "markdown",
   "id": "06a8d4f7",
   "metadata": {},
   "source": [
    "## Assignment 2: GANs\n",
    "\n",
    "### 2.1 Prepare the Data"
   ]
  },
  {
   "cell_type": "code",
   "execution_count": 15,
   "id": "a5fe838b",
   "metadata": {},
   "outputs": [],
   "source": [
    "# global parameter: adjustable batch size\n",
    "batch_size = 32"
   ]
  },
  {
   "cell_type": "code",
   "execution_count": 16,
   "id": "a922550c",
   "metadata": {},
   "outputs": [],
   "source": [
    "def data_preprocessing(raw_data):\n",
    "    # create tf dataset out of numpy arrays\n",
    "    dataset = tf.data.Dataset.from_tensor_slices(raw_data)\n",
    "    # reshap from (1, 784) to shape (28,28,1)\n",
    "    dataset = dataset.map(lambda img: tf.reshape(img, (28,28,1)))\n",
    "    # normalization of tensors\n",
    "    dataset = dataset.map(lambda img: tf.image.per_image_standardization(img))\n",
    "    # cache, shuffle, batch, prefetch\n",
    "    dataset = dataset.cache().shuffle(1000).batch(batch_size).prefetch(20)\n",
    "    \n",
    "    return dataset  "
   ]
  },
  {
   "cell_type": "code",
   "execution_count": 17,
   "id": "ea11d360",
   "metadata": {},
   "outputs": [
    {
     "name": "stderr",
     "output_type": "stream",
     "text": [
      "2023-01-23 18:32:28.782690: I tensorflow/core/platform/cpu_feature_guard.cc:193] This TensorFlow binary is optimized with oneAPI Deep Neural Network Library (oneDNN) to use the following CPU instructions in performance-critical operations:  AVX2 AVX512F AVX512_VNNI FMA\n",
      "To enable them in other operations, rebuild TensorFlow with the appropriate compiler flags.\n"
     ]
    }
   ],
   "source": [
    "train_ds = data_preprocessing(train_images)\n",
    "test_ds = data_preprocessing(test_images)"
   ]
  },
  {
   "cell_type": "code",
   "execution_count": 18,
   "id": "09596c29",
   "metadata": {},
   "outputs": [
    {
     "data": {
      "text/plain": [
       "(32, 28, 28, 1)"
      ]
     },
     "execution_count": 18,
     "metadata": {},
     "output_type": "execute_result"
    }
   ],
   "source": [
    "# check shape of the data   \n",
    "list(train_ds.as_numpy_iterator())[1]\n",
    "np.shape(list(train_ds.as_numpy_iterator())[1])"
   ]
  },
  {
   "cell_type": "code",
   "execution_count": 322,
   "id": "10996587",
   "metadata": {},
   "outputs": [],
   "source": [
    "def print_image(dataset):\n",
    "    # get an image from the dataset\n",
    "    img = next(iter(dataset))\n",
    "\n",
    "    # get the first image from the batch\n",
    "    img = img[0]\n",
    "    # Remove the extra dimension\n",
    "    #img = tf.squeeze(img, axis=-1)\n",
    "\n",
    "    # plot the image\n",
    "    plt.imshow(img)\n",
    "    plt.show()"
   ]
  },
  {
   "cell_type": "code",
   "execution_count": 323,
   "id": "9db800a3",
   "metadata": {},
   "outputs": [
    {
     "data": {
      "image/png": "[encoded data removed]",
      "text/plain": [
       "<Figure size 432x288 with 1 Axes>"
      ]
     },
     "metadata": {
      "needs_background": "light"
     },
     "output_type": "display_data"
    }
   ],
   "source": [
    "# visualize how a data point looks like \n",
    "print_image(train_ds)"
   ]
  },
  {
   "cell_type": "markdown",
   "id": "62f6057f",
   "metadata": {},
   "source": [
    "### 2.2 The GAN Model"
   ]
  },
  {
   "cell_type": "code",
   "execution_count": 258,
   "id": "2200c61a",
   "metadata": {},
   "outputs": [],
   "source": [
    "class Discriminator(tf.keras.Model):\n",
    "    \n",
    "    # perform downsampling and output a vector of probabilities indicating whether the input was fake or real\n",
    "    # basically just like a CNN architecture for a binary classification task\n",
    "    def __init__(self):\n",
    "        \n",
    "        super().__init__()\n",
    "        \n",
    "        # list of all layers to iterate through during call\n",
    "        self.layer_list = []\n",
    "        \n",
    "        # layers\n",
    "        self.layer_list.append(Conv2D(filters=24, kernel_size=3, padding='same', activation='relu'))\n",
    "        self.layer_list.append(tf.keras.layers.BatchNormalization())\n",
    "        #self.layer_list.append(tf.keras.layers.Dropout(0.2))\n",
    "        self.layer_list.append(Conv2D(filters=24, kernel_size=3, padding='same', activation='relu'))\n",
    "        self.layer_list.append(MaxPooling2D(pool_size=2, strides=2))\n",
    "\n",
    "        self.layer_list.append(Conv2D(filters=48, kernel_size=3, padding='same', activation='relu'))\n",
    "        self.layer_list.append(tf.keras.layers.BatchNormalization())\n",
    "        #self.layer_list.append(tf.keras.layers.Dropout(0.2))\n",
    "        self.layer_list.append(Conv2D(filters=48, kernel_size=3, padding='same', activation='relu'))\n",
    "        self.layer_list.append(GlobalAvgPool2D())\n",
    "        \n",
    "        # a Dense layer with a single neuron in the end\n",
    "        self.layer_list.append(Dense(1, activation='sigmoid'))\n",
    "        \n",
    "    # call funtion\n",
    "    # training flag to use certain optimization and regularization techniques -> BatchNorm and Dropout\n",
    "    @tf.function\n",
    "    def call(self, x, training = False):\n",
    "        for layer in self.layer_list:\n",
    "            x = layer(x, training=training)\n",
    "            \n",
    "        return x\n",
    "    "
   ]
  },
  {
   "cell_type": "code",
   "execution_count": 259,
   "id": "a5bf66ff",
   "metadata": {},
   "outputs": [],
   "source": [
    "class Generator(tf.keras.Model):\n",
    "    \n",
    "    # takes a random point from the latent space and returns a generated image\n",
    "    def __init__(self):\n",
    "        \n",
    "        super().__init__()\n",
    "        \n",
    "        # list of all layers to iterate through during call\n",
    "        self.layer_list = []\n",
    "        \n",
    "        # layers\n",
    "        # latent space (size adjustable, but start with 100) comes as a 1d vector\n",
    "        self.layer_list.append(Dense(7 * 7 * 256, activation='relu', input_shape=(100,)))\n",
    "        # reshape such that we have a 2D image\n",
    "        self.layer_list.append(tf.keras.layers.Reshape((7, 7, 256)))\n",
    "        \n",
    "        # convolutional layers with upsampling in between and batch normalization/dropout\n",
    "        self.layer_list.append(Conv2D(filters=64, kernel_size=3, padding='same', activation='relu'))\n",
    "        self.layer_list.append(tf.keras.layers.BatchNormalization())\n",
    "        #self.layer_list.append(tf.keras.layers.Dropout(0.2))\n",
    "        # upsampling technique (Conv2DTranspose) - even-sized kernels in transposed convolutions\n",
    "        self.layer_list.append(tf.keras.layers.Conv2DTranspose(filters=64, kernel_size=4, padding='same', activation='relu'))\n",
    "        self.layer_list.append(Conv2D(filters=48, kernel_size=3, padding='same', activation='relu'))\n",
    "        self.layer_list.append(tf.keras.layers.BatchNormalization())\n",
    "        #self.layer_list.append(tf.keras.layers.Dropout(0.2))\n",
    "        \n",
    "        # in the last layer, perform a convolution with 1 feature map and tanh activation\n",
    "        self.layer_list.append(Conv2D(filters=1, kernel_size=3, padding='same', activation='tanh'))\n",
    "          \n",
    "        \n",
    "    # call funtion\n",
    "    # training flag to use certain optimization and regularization techniques -> BatchNorm and Dropout\n",
    "    @tf.function\n",
    "    def call(self, x, training = False):\n",
    "        for layer in self.layer_list:\n",
    "            x = layer(x, training=training)\n",
    "        return x"
   ]
  },
  {
   "cell_type": "markdown",
   "id": "5e64c955",
   "metadata": {},
   "source": [
    "Much help was provided by the code from this Tensorflow Tutorial:\n",
    "https://www.tensorflow.org/tutorials/generative/dcgan"
   ]
  },
  {
   "cell_type": "code",
   "execution_count": 306,
   "id": "c7c93338",
   "metadata": {},
   "outputs": [],
   "source": [
    "class GAN(tf.keras.Model):\n",
    "    \n",
    "    def __init__(self):\n",
    "        \n",
    "        super().__init__()\n",
    "        # optimzer, metrics, loss\n",
    "        self.optimizer_generator = tf.keras.optimizers.Adam()\n",
    "        self.optimizer_discriminator = tf.keras.optimizers.Adam()\n",
    "\n",
    "        self.metrics_list = [\n",
    "                        tf.keras.metrics.Mean(name=\"generator_loss\"),\n",
    "                        tf.keras.metrics.Mean(name=\"discriminator_loss\"),\n",
    "                        #tf.keras.metrics.BinaryAccuracy(name=\"discriminator_acc\") \n",
    "                       ]\n",
    "\n",
    "        self.loss_function = tf.keras.losses.BinaryCrossentropy()\n",
    "        \n",
    "        self.discriminator = Discriminator() \n",
    "        self.generator = Generator() \n",
    "        \n",
    "        # for evaluation, random latent vectors generated before training and feed through the generator regularly\n",
    "        # random noise = input to generator; size of noise vector is the size of latent space\n",
    "        self.eval_noise = tf.random.normal([batch_size,100]) #? this is also my random seed for comparison...i think\n",
    "\n",
    "        \n",
    "    # call funtion\n",
    "    @tf.function\n",
    "    def call(self, x, generator = False, training=False):\n",
    "        if generator:\n",
    "            x = self.generator(x) \n",
    "        else:\n",
    "            x = self.discriminator(x)\n",
    "        return x\n",
    "    \n",
    "    # metrics property\n",
    "    @property\n",
    "    def metrics(self):\n",
    "        return self.metrics_list\n",
    "        # return a list with all metrics in the model\n",
    "\n",
    "    # reset all metrics objects\n",
    "    def reset_metrics(self):\n",
    "        for metric in self.metrics:\n",
    "            metric.reset_states()\n",
    "    \n",
    "    # train step method\n",
    "    @tf.function\n",
    "    def train_step(self, data):\n",
    "        \n",
    "        # create random noise = input to generator; size of noise vector is the size of latent space \n",
    "        noise = tf.\n",
    "    print(img)random.normal([batch_size, 100]) #????\n",
    "        \n",
    "        # calculate and backpropagate gradients\n",
    "        with tf.GradientTape() as generator_tape, tf.GradientTape() as discriminator_tape:\n",
    "            # discriminator sees a batch of true images and a batch of the generated images\n",
    "            generated_images = self.call(noise, generator = True, training =True)\n",
    "        \n",
    "            true_images = data\n",
    "            # predictions\n",
    "            output_generated = self.call(generated_images, training=True)\n",
    "            output_true = self.call(true_images, training=True)\n",
    "            # losses \n",
    "            # loss of the discriminator is based on how well the discriminator detected fake images as fake and real images as real\n",
    "            # BCE between the discriminator’s output on the real images and all labels = 1\n",
    "            loss_true = self.loss_function(tf.ones_like(output_true), output_true)\n",
    "            # BCE between the discriminator’s output on fake images and all labels = 0\n",
    "            loss_generated = self.loss_function(tf.zeros_like(output_generated), output_generated)\n",
    "            # add together to get the resulting loss of discriminator\n",
    "            loss_discriminator = loss_true + loss_generated\n",
    "            \n",
    "            # loss of the generator is estimated by how well the generator was able to fool the discriminator\n",
    "            loss_generator = self.loss_function(tf.ones_like(output_generated), output_generated)\n",
    "            \n",
    "            \n",
    "            # accuracy of discriminator? \n",
    "            # acc_discriminator = \n",
    "            \n",
    "            # update metrics\n",
    "            self.metrics[0].update_state(loss_generator)\n",
    "            self.metrics[1].update_state(loss_discriminator)\n",
    "            #self.metrics[2].update_state(acc_discriminator)\n",
    "            \n",
    "        \n",
    "        # calculate gradients for both based on respective loss\n",
    "        gradients_generator = generator_tape.gradient(loss_generator, self.generator.trainable_variables)\n",
    "        gradients_discriminator = discriminator_tape.gradient(loss_discriminator, self.discriminator.trainable_variables)\n",
    "        \n",
    "        # apply optimizer for both \n",
    "        # do I need to initialize two individual optimizers before? \n",
    "        self.optimizer_generator.apply_gradients(zip(gradients_generator, self.generator.trainable_variables))\n",
    "        self.optimizer_discriminator.apply_gradients(zip(gradients_discriminator, self.discriminator.trainable_variables))\n",
    "        \n",
    "        \n",
    "        # Return a dictionary mapping metric names to current value to keep track of training\n",
    "        d = {m.name: m.result() for m in self.metrics}\n",
    "    \n",
    "        return d\n",
    "\n",
    "    @tf.function\n",
    "    def test_step(self, data):\n",
    "        \n",
    "        # same as in training but without backpropagating\n",
    "        # and printing of random noise for evaluation \n",
    "        \n",
    "        # create random noise = input to generator; size of noise vector is the size of latent space \n",
    "        noise = tf.random.normal([batch_size, 100])#????\n",
    "        \n",
    "        # loss calculation of testing data\n",
    "       \n",
    "        # discriminator sees a batch of true images and a batch of the generated images\n",
    "        generated_images = self.generator(noise, training =False)\n",
    "        true_images = data\n",
    "        # predictions\n",
    "        output_generated = self.discriminator(generated_images, training=False)\n",
    "        output_true = self.discriminator(true_images, training=False)\n",
    "        # losses \n",
    "        # loss of the discriminator is based on how well the discriminator detected fake images as fake and real images as real\n",
    "        # BCE between the discriminator’s output on the real images and all labels = 1\n",
    "        loss_true = self.loss_function(tf.ones_like(output_true), output_true)\n",
    "        # BCE between the discriminator’s output on fake images and all labels = 0\n",
    "        loss_generated = self.loss_function(tf.zeros_like(output_generated), output_generated)\n",
    "        # add together to get the resulting loss of discriminator\n",
    "        loss_discriminator = loss_true + loss_generated\n",
    "            \n",
    "        # loss of the generator is estimated by how well the generator was able to fool the discriminator\n",
    "        loss_generator = self.loss_function(tf.ones_like(output_generated), output_generated)\n",
    "            \n",
    "        # update metrics\n",
    "        self.metrics[0].update_state(loss_generator)\n",
    "        self.metrics[1].update_state(loss_discriminator)\n",
    "        \n",
    "        # Return a dictionary mapping metric names to current value to keep track of training\n",
    "        d = {m.name: m.result() for m in self.metrics}\n",
    "        \n",
    "        \n",
    "        # for evaluation, create some random latent vectors before training (see self.eval_noise) and feed them \n",
    "        # through the generator regularly. Plot the resulting images to evaluate training.\n",
    "        \n",
    "        check_generated_images = self.generator(self.eval_noise)\n",
    "        \n",
    "        return d, check_generated_images\n",
    "         "
   ]
  },
  {
   "cell_type": "markdown",
   "id": "749a0d7b",
   "metadata": {},
   "source": [
    "### 2.3 Training\n",
    "\n",
    "* visualize your training matrices as well as generate candle images using a random seed to assert the visual quality of your GAN\n",
    "* start with 10 epochs\n"
   ]
  },
  {
   "cell_type": "code",
   "execution_count": 317,
   "id": "ef86b92a-4e70-4d18-bca5-cd1112db67c6",
   "metadata": {},
   "outputs": [],
   "source": [
    "def print_image_from_tensor(data):\n",
    "    # get an image from the dataset\n",
    "    img = data[0]\n",
    "    plt.imshow(img)\n",
    "    plt.show()"
   ]
  },
  {
   "cell_type": "code",
   "execution_count": 318,
   "id": "ca82231a",
   "metadata": {},
   "outputs": [],
   "source": [
    "def training_loop(model, train_ds, test_ds, epochs, train_summary_writer, test_summary_writer):\n",
    "\n",
    "    # iterate over epochs\n",
    "    for e in range(epochs):\n",
    "\n",
    "        # train steps on all batches in the training data\n",
    "        for data in tqdm.tqdm(train_ds, position=0, leave=True):\n",
    "            metrics = model.train_step(data)\n",
    "\n",
    "        # log and print training metrics\n",
    "        with train_summary_writer.as_default():\n",
    "            # for scalar metrics:\n",
    "            for metric in model.metrics:\n",
    "                    tf.summary.scalar(f\"{metric.name}\", metric.result(), step=e)\n",
    "            # alternatively, log metrics individually (allows for non-scalar metrics such as tf.keras.metrics.MeanTensor)\n",
    "            # e.g. tf.summary.image(name=\"mean_activation_layer3\", data = metrics[\"mean_activation_layer3\"],step=e)\n",
    "        \n",
    "        #print the metrics\n",
    "        print([f\"{key}: {value.numpy()}\" for (key, value) in metrics.items()])\n",
    "        \n",
    "        # 4. reset metric objects\n",
    "        model.reset_metrics()\n",
    "\n",
    "\n",
    "        # 5. evaluate on validation data\n",
    "        for data in test_ds:\n",
    "            metrics, img = model.test_step(data)\n",
    "        \n",
    "        # log validation metrics\n",
    "        with test_summary_writer.as_default():\n",
    "            # for scalar metrics:\n",
    "            for metric in model.metrics:\n",
    "                    tf.summary.scalar(f\"{metric.name}\", metric.result(), step=e)\n",
    "            # alternatively, log metrics individually (allows for non-scalar metrics such as tf.keras.metrics.MeanTensor)\n",
    "            # e.g. tf.summary.image(name=\"mean_activation_layer3\", data = metrics[\"mean_activation_layer3\"],step=e)\n",
    "        print_image_from_tensor(img)\n",
    "        print([f\"test_{key}: {value.numpy()}\" for (key, value) in metrics.items()])\n",
    "        # 7. reset metric objects\n",
    "        model.reset_metrics()"
   ]
  },
  {
   "cell_type": "code",
   "execution_count": 319,
   "id": "524bed42",
   "metadata": {},
   "outputs": [],
   "source": [
    "def create_summary_writers(config_name):\n",
    "    \n",
    "    # Define where to save the logs\n",
    "    # along with this, you may want to save a config file with the same name so you know what the hyperparameters were used\n",
    "    # alternatively make a copy of the code that is used for later reference\n",
    "    \n",
    "    current_time = datetime.datetime.now().strftime(\"%Y%m%d-%H%M%S\")\n",
    "\n",
    "    train_log_path = f\"logs/{config_name}/{current_time}/train\"\n",
    "    test_log_path = f\"logs/{config_name}/{current_time}/test\"\n",
    "\n",
    "    # log writer for training metrics\n",
    "    train_summary_writer = tf.summary.create_file_writer(train_log_path)\n",
    "\n",
    "    # log writer for test metrics\n",
    "    test_summary_writer = tf.summary.create_file_writer(test_log_path)\n",
    "    \n",
    "    return train_summary_writer, test_summary_writer"
   ]
  },
  {
   "cell_type": "code",
   "execution_count": 320,
   "id": "fce10bee",
   "metadata": {},
   "outputs": [],
   "source": [
    "# hyperparameters\n",
    "EPOCHS = 10\n"
   ]
  },
  {
   "cell_type": "code",
   "execution_count": 321,
   "id": "b52bb469",
   "metadata": {},
   "outputs": [
    {
     "name": "stderr",
     "output_type": "stream",
     "text": [
      "100%|█████████████████████████████████████████| 313/313 [00:11<00:00, 27.20it/s]\n"
     ]
    },
    {
     "name": "stdout",
     "output_type": "stream",
     "text": [
      "['generator_loss: 13.294516563415527', 'discriminator_loss: 0.07916537672281265']\n"
     ]
    },
    {
     "data": {
      "image/png": "[encoded data removed]",
      "text/plain": [
       "<Figure size 432x288 with 1 Axes>"
      ]
     },
     "metadata": {
      "needs_background": "light"
     },
     "output_type": "display_data"
    },
    {
     "name": "stdout",
     "output_type": "stream",
     "text": [
      "['test_generator_loss: 15.42493724822998', 'test_discriminator_loss: 4.196853087279351e-09']\n"
     ]
    },
    {
     "name": "stderr",
     "output_type": "stream",
     "text": [
      "100%|█████████████████████████████████████████| 313/313 [00:07<00:00, 43.10it/s]\n"
     ]
    },
    {
     "name": "stdout",
     "output_type": "stream",
     "text": [
      "['generator_loss: 15.424962043762207', 'discriminator_loss: 1.66873732609929e-08']\n"
     ]
    },
    {
     "data": {
      "image/png": "[encoded data removed]",
      "text/plain": [
       "<Figure size 432x288 with 1 Axes>"
      ]
     },
     "metadata": {
      "needs_background": "light"
     },
     "output_type": "display_data"
    },
    {
     "name": "stdout",
     "output_type": "stream",
     "text": [
      "['test_generator_loss: 15.42493724822998', 'test_discriminator_loss: 3.135850246138716e-09']\n"
     ]
    },
    {
     "name": "stderr",
     "output_type": "stream",
     "text": [
      "100%|█████████████████████████████████████████| 313/313 [00:07<00:00, 40.32it/s]\n"
     ]
    },
    {
     "name": "stdout",
     "output_type": "stream",
     "text": [
      "['generator_loss: 15.424962043762207', 'discriminator_loss: 1.375924707502918e-08']\n"
     ]
    },
    {
     "data": {
      "image/png": "[encoded data removed]",
      "text/plain": [
       "<Figure size 432x288 with 1 Axes>"
      ]
     },
     "metadata": {
      "needs_background": "light"
     },
     "output_type": "display_data"
    },
    {
     "name": "stdout",
     "output_type": "stream",
     "text": [
      "['test_generator_loss: 15.42493724822998', 'test_discriminator_loss: 2.3577819696640745e-09']\n"
     ]
    },
    {
     "name": "stderr",
     "output_type": "stream",
     "text": [
      "100%|█████████████████████████████████████████| 313/313 [00:07<00:00, 40.50it/s]\n"
     ]
    },
    {
     "name": "stdout",
     "output_type": "stream",
     "text": [
      "['generator_loss: 15.424962043762207', 'discriminator_loss: 1.121204196152803e-08']\n"
     ]
    },
    {
     "data": {
      "image/png": "[encoded data removed]",
      "text/plain": [
       "<Figure size 432x288 with 1 Axes>"
      ]
     },
     "metadata": {
      "needs_background": "light"
     },
     "output_type": "display_data"
    },
    {
     "name": "stdout",
     "output_type": "stream",
     "text": [
      "['test_generator_loss: 15.42493724822998', 'test_discriminator_loss: 1.6268694169596642e-09']\n"
     ]
    },
    {
     "name": "stderr",
     "output_type": "stream",
     "text": [
      "100%|█████████████████████████████████████████| 313/313 [00:07<00:00, 40.00it/s]\n"
     ]
    },
    {
     "name": "stdout",
     "output_type": "stream",
     "text": [
      "['generator_loss: 15.424962043762207', 'discriminator_loss: 9.057655070421333e-09']\n"
     ]
    },
    {
     "data": {
      "image/png": "[encoded data removed]",
      "text/plain": [
       "<Figure size 432x288 with 1 Axes>"
      ]
     },
     "metadata": {
      "needs_background": "light"
     },
     "output_type": "display_data"
    },
    {
     "name": "stdout",
     "output_type": "stream",
     "text": [
      "['test_generator_loss: 15.42493724822998', 'test_discriminator_loss: 1.2496240708870232e-09']\n"
     ]
    },
    {
     "name": "stderr",
     "output_type": "stream",
     "text": [
      "100%|█████████████████████████████████████████| 313/313 [00:07<00:00, 39.79it/s]\n"
     ]
    },
    {
     "name": "stdout",
     "output_type": "stream",
     "text": [
      "['generator_loss: 15.424962043762207', 'discriminator_loss: 7.415095204521549e-09']\n"
     ]
    },
    {
     "data": {
      "image/png": "[encoded data removed]",
      "text/plain": [
       "<Figure size 432x288 with 1 Axes>"
      ]
     },
     "metadata": {
      "needs_background": "light"
     },
     "output_type": "display_data"
    },
    {
     "name": "stdout",
     "output_type": "stream",
     "text": [
      "['test_generator_loss: 15.42493724822998', 'test_discriminator_loss: 1.0138456740804713e-09']\n"
     ]
    },
    {
     "name": "stderr",
     "output_type": "stream",
     "text": [
      "100%|█████████████████████████████████████████| 313/313 [00:07<00:00, 40.08it/s]\n"
     ]
    },
    {
     "name": "stdout",
     "output_type": "stream",
     "text": [
      "['generator_loss: 15.424962043762207', 'discriminator_loss: 6.147478970319753e-09']\n"
     ]
    },
    {
     "data": {
      "image/png": "[encoded data removed]",
      "text/plain": [
       "<Figure size 432x288 with 1 Axes>"
      ]
     },
     "metadata": {
      "needs_background": "light"
     },
     "output_type": "display_data"
    },
    {
     "name": "stdout",
     "output_type": "stream",
     "text": [
      "['test_generator_loss: 15.42493724822998', 'test_discriminator_loss: 8.252231675776045e-10']\n"
     ]
    },
    {
     "name": "stderr",
     "output_type": "stream",
     "text": [
      "100%|█████████████████████████████████████████| 313/313 [00:07<00:00, 40.95it/s]\n"
     ]
    },
    {
     "name": "stdout",
     "output_type": "stream",
     "text": [
      "['generator_loss: 15.424962043762207', 'discriminator_loss: 5.10601871894778e-09']\n"
     ]
    },
    {
     "data": {
      "image/png": "[encoded data removed]",
      "text/plain": [
       "<Figure size 432x288 with 1 Axes>"
      ]
     },
     "metadata": {
      "needs_background": "light"
     },
     "output_type": "display_data"
    },
    {
     "name": "stdout",
     "output_type": "stream",
     "text": [
      "['test_generator_loss: 15.42493724822998', 'test_discriminator_loss: 6.601784119375509e-10']\n"
     ]
    },
    {
     "name": "stderr",
     "output_type": "stream",
     "text": [
      "100%|█████████████████████████████████████████| 313/313 [00:08<00:00, 37.85it/s]\n"
     ]
    },
    {
     "name": "stdout",
     "output_type": "stream",
     "text": [
      "['generator_loss: 15.424962043762207', 'discriminator_loss: 4.2669041633303095e-09']\n"
     ]
    },
    {
     "data": {
      "image/png": "[encoded data removed]",
      "text/plain": [
       "<Figure size 432x288 with 1 Axes>"
      ]
     },
     "metadata": {
      "needs_background": "light"
     },
     "output_type": "display_data"
    },
    {
     "name": "stdout",
     "output_type": "stream",
     "text": [
      "['test_generator_loss: 15.42493724822998', 'test_discriminator_loss: 5.422894355788799e-10']\n"
     ]
    },
    {
     "name": "stderr",
     "output_type": "stream",
     "text": [
      "100%|█████████████████████████████████████████| 313/313 [00:07<00:00, 39.30it/s]\n"
     ]
    },
    {
     "name": "stdout",
     "output_type": "stream",
     "text": [
      "['generator_loss: 15.424962043762207', 'discriminator_loss: 3.558719763319118e-09']\n"
     ]
    },
    {
     "data": {
      "image/png": "[encoded data removed]",
      "text/plain": [
       "<Figure size 432x288 with 1 Axes>"
      ]
     },
     "metadata": {
      "needs_background": "light"
     },
     "output_type": "display_data"
    },
    {
     "name": "stdout",
     "output_type": "stream",
     "text": [
      "['test_generator_loss: 15.42493724822998', 'test_discriminator_loss: 4.244003481979064e-10']\n"
     ]
    }
   ],
   "source": [
    "train_summary_writer, test_summary_writer = create_summary_writers(\"GAN_model1\")\n",
    "model = GAN()\n",
    "\n",
    "training_loop(model, \n",
    "              train_ds=train_ds, \n",
    "              test_ds=test_ds, \n",
    "              epochs= EPOCHS, \n",
    "              train_summary_writer=train_summary_writer, \n",
    "              test_summary_writer=test_summary_writer)"
   ]
  },
  {
   "cell_type": "markdown",
   "id": "f1bb7c69",
   "metadata": {},
   "source": [
    "var and grad do not have the same shape[3,3,48,1] [48,1] -> why?"
   ]
  },
  {
   "cell_type": "code",
   "execution_count": null,
   "id": "a0540e23-29df-4d1f-ba34-aaa939a2c83e",
   "metadata": {},
   "outputs": [],
   "source": []
  }
 ],
 "metadata": {
  "kernelspec": {
   "display_name": "Python 3 (ipykernel)",
   "language": "python",
   "name": "python3"
  },
  "language_info": {
   "codemirror_mode": {
    "name": "ipython",
    "version": 3
   },
   "file_extension": ".py",
   "mimetype": "text/x-python",
   "name": "python",
   "nbconvert_exporter": "python",
   "pygments_lexer": "ipython3",
   "version": "3.10.6"
  }
 },
 "nbformat": 4,
 "nbformat_minor": 5
}
