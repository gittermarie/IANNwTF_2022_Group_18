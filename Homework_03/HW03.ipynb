{
 "cells": [
  {
   "cell_type": "markdown",
   "id": "b5bfd2df",
   "metadata": {},
   "source": [
    "## Homework 03\n",
    "\n",
    "### Assignment 2: MNIST Classification\n",
    "\n",
    "#### 2.1 Loading Dataset"
   ]
  },
  {
   "cell_type": "code",
   "execution_count": 1,
   "id": "e4da806d",
   "metadata": {},
   "outputs": [
    {
     "name": "stderr",
     "output_type": "stream",
     "text": [
      "C:\\Users\\berit\\AppData\\Local\\Continuum\\miniconda3\\envs\\iannwtf\\lib\\site-packages\\tqdm\\auto.py:22: TqdmWarning: IProgress not found. Please update jupyter and ipywidgets. See https://ipywidgets.readthedocs.io/en/stable/user_install.html\n",
      "  from .autonotebook import tqdm as notebook_tqdm\n"
     ]
    }
   ],
   "source": [
    "import tensorflow_datasets as tfds\n",
    "import tensorflow as tf\n",
    "from tensorflow.keras.layers import Dense\n",
    "import numpy as np\n",
    "import matplotlib.pyplot as plt"
   ]
  },
  {
   "cell_type": "code",
   "execution_count": 2,
   "id": "5c255cb3",
   "metadata": {},
   "outputs": [],
   "source": [
    "(train_ds, test_ds), ds_info = tfds.load('mnist', split =['train', 'test'],\n",
    "                                               as_supervised =True , with_info = True )"
   ]
  },
  {
   "cell_type": "code",
   "execution_count": 3,
   "id": "89d665c4",
   "metadata": {},
   "outputs": [
    {
     "name": "stdout",
     "output_type": "stream",
     "text": [
      "tfds.core.DatasetInfo(\n",
      "    name='mnist',\n",
      "    full_name='mnist/3.0.1',\n",
      "    description=\"\"\"\n",
      "    The MNIST database of handwritten digits.\n",
      "    \"\"\",\n",
      "    homepage='http://yann.lecun.com/exdb/mnist/',\n",
      "    data_path='C:\\\\Users\\\\berit\\\\tensorflow_datasets\\\\mnist\\\\3.0.1',\n",
      "    file_format=tfrecord,\n",
      "    download_size=11.06 MiB,\n",
      "    dataset_size=21.00 MiB,\n",
      "    features=FeaturesDict({\n",
      "        'image': Image(shape=(28, 28, 1), dtype=tf.uint8),\n",
      "        'label': ClassLabel(shape=(), dtype=tf.int64, num_classes=10),\n",
      "    }),\n",
      "    supervised_keys=('image', 'label'),\n",
      "    disable_shuffling=False,\n",
      "    splits={\n",
      "        'test': <SplitInfo num_examples=10000, num_shards=1>,\n",
      "        'train': <SplitInfo num_examples=60000, num_shards=1>,\n",
      "    },\n",
      "    citation=\"\"\"@article{lecun2010mnist,\n",
      "      title={MNIST handwritten digit database},\n",
      "      author={LeCun, Yann and Cortes, Corinna and Burges, CJ},\n",
      "      journal={ATT Labs [Online]. Available: http://yann.lecun.com/exdb/mnist},\n",
      "      volume={2},\n",
      "      year={2010}\n",
      "    }\"\"\",\n",
      ")\n"
     ]
    }
   ],
   "source": [
    "print(ds_info)"
   ]
  },
  {
   "cell_type": "markdown",
   "id": "a4d4df35",
   "metadata": {},
   "source": [
    "* How many training/test images are there? 10000 test images and 6000 training images    \n",
    "* What’s the image shape? image shape is (28,28,1)\n",
    "* What range are pixel values in? image values from range 0 to 255\n"
   ]
  },
  {
   "cell_type": "code",
   "execution_count": 4,
   "id": "a4502078",
   "metadata": {},
   "outputs": [
    {
     "data": {
      "image/png": "[encoded data removed]",
      "text/plain": [
       "<Figure size 648x648 with 9 Axes>"
      ]
     },
     "metadata": {},
     "output_type": "display_data"
    },
    {
     "data": {
      "image/png": "[encoded data removed]",
      "text/plain": [
       "<Figure size 648x648 with 9 Axes>"
      ]
     },
     "execution_count": 4,
     "metadata": {},
     "output_type": "execute_result"
    }
   ],
   "source": [
    "tfds.show_examples(train_ds, ds_info)"
   ]
  },
  {
   "cell_type": "markdown",
   "id": "821d3cdc",
   "metadata": {},
   "source": [
    "#### 2.2 Data pipeline"
   ]
  },
  {
   "cell_type": "code",
   "execution_count": 5,
   "id": "977f339e",
   "metadata": {},
   "outputs": [],
   "source": [
    "def prepare_mnist_data(mnist):\n",
    "    #flatten the images into vectors\n",
    "    mnist = mnist.map(lambda img, target: (tf.reshape(img, (-1,)), target))\n",
    "    #convert data from uint8 to float32\n",
    "    mnist = mnist.map(lambda img, target: (tf.cast(img, tf.float32), target))\n",
    "    #sloppy input normalization, just bringing image values from range [0, 255] to [-1, 1]\n",
    "    mnist = mnist.map(lambda img, target: ((img/128.)-1., target))\n",
    "    #create one-hot targets\n",
    "    mnist = mnist.map(lambda img, target: (img, tf.one_hot(target, depth=10)))\n",
    "    #cache this progress in memory, as there is no need to redo it; it is deterministic after all\n",
    "    mnist = mnist.cache()\n",
    "    #shuffle, batch, prefetch\n",
    "    mnist = mnist.shuffle(1000)\n",
    "    mnist = mnist.batch(32)\n",
    "    mnist = mnist.prefetch(20)\n",
    "    #return preprocessed dataset\n",
    "    return mnist\n",
    "\n",
    "train_dataset = train_ds.apply(prepare_mnist_data)\n",
    "test_dataset = test_ds.apply(prepare_mnist_data)"
   ]
  },
  {
   "cell_type": "markdown",
   "id": "6a4f9ac1",
   "metadata": {},
   "source": [
    "#### 2.3 Deep Neural Network "
   ]
  },
  {
   "cell_type": "code",
   "execution_count": 6,
   "id": "9a3aa06a",
   "metadata": {},
   "outputs": [],
   "source": [
    "class FFNN(tf.keras.Model):\n",
    "    \n",
    "    def __init__(self):\n",
    "        super(FFNN, self).__init__()\n",
    "        # 2 hidden layers with 256 units each \n",
    "        self.dense1 = tf.keras.layers.Dense(256, activation=tf.nn.relu)\n",
    "        self.dense2 = tf.keras.layers.Dense(256, activation=tf.nn.relu)\n",
    "        # 10 units for output layer since there are 10 digits to classify\n",
    "        self.out = tf.keras.layers.Dense(10, activation=tf.nn.softmax)\n",
    "\n",
    "    @tf.function\n",
    "    def call(self, inputs):\n",
    "        x = self.dense1(inputs)\n",
    "        x = self.dense2(x)\n",
    "        x = self.out(x)\n",
    "        return x"
   ]
  },
  {
   "cell_type": "markdown",
   "id": "dcc7e65a",
   "metadata": {},
   "source": [
    "#### 2.4 Training"
   ]
  },
  {
   "cell_type": "code",
   "execution_count": 7,
   "id": "2980ea38",
   "metadata": {},
   "outputs": [],
   "source": [
    "def train_step(model, input, target, loss_function, optimizer):\n",
    "  # loss_object and optimizer_object are instances of respective tensorflow classes\n",
    "    with tf.GradientTape() as tape:\n",
    "        prediction = model(input)\n",
    "        loss = loss_function(target, prediction)\n",
    "    gradients = tape.gradient(loss, model.trainable_variables)\n",
    "    optimizer.apply_gradients(zip(gradients, model.trainable_variables))\n",
    "    return loss\n",
    "\n",
    "\n",
    "def test(model, test_data, loss_function):\n",
    "  # test over complete test data\n",
    "    test_accuracy_aggregator = []\n",
    "    test_loss_aggregator = []\n",
    "    \n",
    "    for (input, target) in test_data:\n",
    "        prediction = model(input)\n",
    "        sample_test_loss = loss_function(target, prediction)\n",
    "        sample_test_accuracy =  np.argmax(target, axis=1) == np.argmax(prediction, axis=1)\n",
    "        sample_test_accuracy = np.mean(sample_test_accuracy)\n",
    "        test_loss_aggregator.append(sample_test_loss.numpy())\n",
    "        test_accuracy_aggregator.append(np.mean(sample_test_accuracy))\n",
    "    \n",
    "    test_loss = tf.reduce_mean(test_loss_aggregator)\n",
    "    test_accuracy = tf.reduce_mean(test_accuracy_aggregator)\n",
    "\n",
    "    return test_loss, test_accuracy"
   ]
  },
  {
   "cell_type": "code",
   "execution_count": 8,
   "id": "680277df",
   "metadata": {},
   "outputs": [
    {
     "name": "stdout",
     "output_type": "stream",
     "text": [
      "Epoch: 0 starting with accuracy 0.09924121405750799\n",
      "Epoch: 1 starting with accuracy 0.9549720447284346\n",
      "Epoch: 2 starting with accuracy 0.9492811501597445\n",
      "Epoch: 3 starting with accuracy 0.9649560702875399\n",
      "Epoch: 4 starting with accuracy 0.9757388178913738\n",
      "Epoch: 5 starting with accuracy 0.9690495207667732\n",
      "Epoch: 6 starting with accuracy 0.9736421725239617\n",
      "Epoch: 7 starting with accuracy 0.9746405750798722\n",
      "Epoch: 8 starting with accuracy 0.9762380191693291\n",
      "Epoch: 9 starting with accuracy 0.9756389776357828\n"
     ]
    }
   ],
   "source": [
    "# hyperparameters\n",
    "num_epochs = 10\n",
    "learning_rate = 0.1\n",
    "\n",
    "# model initialization \n",
    "model = FFNN()\n",
    "# loss initialization (categorical cross entropy loss) \n",
    "cross_entropy_loss = tf.keras.losses.CategoricalCrossentropy()\n",
    "# optimizer initialization (Stochastic Gradient Descent) \n",
    "optimizer = tf.keras.optimizers.SGD(learning_rate)\n",
    "\n",
    "# initialization lists for training\n",
    "train_losses = []\n",
    "test_losses = []\n",
    "test_accuracies = []\n",
    "\n",
    "# testing on untrained model  \n",
    "test_loss, test_accuracy = test(model, test_dataset, cross_entropy_loss)\n",
    "test_losses.append(test_loss)\n",
    "test_accuracies.append(test_accuracy)\n",
    "\n",
    "# loss of untrained model\n",
    "train_loss, _ = test(model, train_dataset, cross_entropy_loss)\n",
    "train_losses.append(train_loss)\n",
    "\n",
    "# We train for num_epochs epochs.\n",
    "for epoch in range(num_epochs):\n",
    "    print(f'Epoch: {str(epoch)} starting with accuracy {test_accuracies[-1]}')\n",
    "\n",
    "    #training (and checking in with training)\n",
    "    epoch_loss_agg = []\n",
    "    for input,target in train_dataset:\n",
    "        train_loss = train_step(model, input, target, cross_entropy_loss, optimizer)\n",
    "        epoch_loss_agg.append(train_loss)\n",
    "    \n",
    "    #track training loss\n",
    "    train_losses.append(tf.reduce_mean(epoch_loss_agg))\n",
    "\n",
    "    #testing, so we can track accuracy and test loss\n",
    "    test_loss, test_accuracy = test(model, test_dataset, cross_entropy_loss)\n",
    "    test_losses.append(test_loss)\n",
    "    test_accuracies.append(test_accuracy)"
   ]
  },
  {
   "cell_type": "markdown",
   "id": "5772d0cb",
   "metadata": {},
   "source": [
    "#### 2.5 Visualization"
   ]
  },
  {
   "cell_type": "code",
   "execution_count": 20,
   "id": "a3ec2411",
   "metadata": {},
   "outputs": [],
   "source": [
    "def visualization (train_losses, test_losses, test_accuracies):\n",
    "    z = np.linspace(0, 1, 11)\n",
    "   \n",
    "    \n",
    "    line1 , = plt.plot(z, train_losses , \"b-\")\n",
    "    line2 , = plt.plot(z, test_losses , \"r-\")\n",
    "    line3 , = plt.plot(z, test_accuracies , \"b:\")\n",
    "    \n",
    "    plt.xlabel(\" Training steps \")\n",
    "    plt.ylabel(\" Loss / Accuracy \")\n",
    "    plt.legend(( line1 , line2 , line3),(\" training loss \", \" test loss \", \" test accuracy \"))\n",
    "    plt.show()"
   ]
  },
  {
   "cell_type": "code",
   "execution_count": 21,
   "id": "77bd3e96",
   "metadata": {},
   "outputs": [
    {
     "data": {
      "image/png": "[encoded data removed]",
      "text/plain": [
       "<Figure size 432x288 with 1 Axes>"
      ]
     },
     "metadata": {
      "needs_background": "light"
     },
     "output_type": "display_data"
    }
   ],
   "source": [
    "visualization(train_losses, test_losses ,test_accuracies)"
   ]
  },
  {
   "cell_type": "markdown",
   "id": "6f8772d5",
   "metadata": {},
   "source": [
    "### Assignment 3 Hyperparameters"
   ]
  },
  {
   "cell_type": "code",
   "execution_count": null,
   "id": "89d65711",
   "metadata": {},
   "outputs": [],
   "source": []
  }
 ],
 "metadata": {
  "kernelspec": {
   "display_name": "iannwtf",
   "language": "python",
   "name": "iannwtf"
  },
  "language_info": {
   "codemirror_mode": {
    "name": "ipython",
    "version": 3
   },
   "file_extension": ".py",
   "mimetype": "text/x-python",
   "name": "python",
   "nbconvert_exporter": "python",
   "pygments_lexer": "ipython3",
   "version": "3.10.6"
  }
 },
 "nbformat": 4,
 "nbformat_minor": 5
}
