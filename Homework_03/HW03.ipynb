{
 "cells": [
  {
   "cell_type": "markdown",
   "id": "b5bfd2df",
   "metadata": {},
   "source": [
    "## Homework 03\n",
    "\n",
    "### Assignment 2: MNIST Classification\n",
    "\n",
    "#### 2.1 Loading Dataset"
   ]
  },
  {
   "cell_type": "code",
   "execution_count": 1,
   "id": "e4da806d",
   "metadata": {},
   "outputs": [
    {
     "name": "stderr",
     "output_type": "stream",
     "text": [
      "2022-11-14 15:14:07.887933: I tensorflow/core/platform/cpu_feature_guard.cc:193] This TensorFlow binary is optimized with oneAPI Deep Neural Network Library (oneDNN) to use the following CPU instructions in performance-critical operations:  AVX2 AVX512F AVX512_VNNI FMA\n",
      "To enable them in other operations, rebuild TensorFlow with the appropriate compiler flags.\n",
      "2022-11-14 15:14:08.006723: I tensorflow/core/util/util.cc:169] oneDNN custom operations are on. You may see slightly different numerical results due to floating-point round-off errors from different computation orders. To turn them off, set the environment variable `TF_ENABLE_ONEDNN_OPTS=0`.\n",
      "2022-11-14 15:14:08.010451: W tensorflow/stream_executor/platform/default/dso_loader.cc:64] Could not load dynamic library 'libcudart.so.11.0'; dlerror: libcudart.so.11.0: cannot open shared object file: No such file or directory\n",
      "2022-11-14 15:14:08.010461: I tensorflow/stream_executor/cuda/cudart_stub.cc:29] Ignore above cudart dlerror if you do not have a GPU set up on your machine.\n",
      "2022-11-14 15:14:08.029330: E tensorflow/stream_executor/cuda/cuda_blas.cc:2981] Unable to register cuBLAS factory: Attempting to register factory for plugin cuBLAS when one has already been registered\n",
      "2022-11-14 15:14:08.562468: W tensorflow/stream_executor/platform/default/dso_loader.cc:64] Could not load dynamic library 'libnvinfer.so.7'; dlerror: libnvinfer.so.7: cannot open shared object file: No such file or directory\n",
      "2022-11-14 15:14:08.562520: W tensorflow/stream_executor/platform/default/dso_loader.cc:64] Could not load dynamic library 'libnvinfer_plugin.so.7'; dlerror: libnvinfer_plugin.so.7: cannot open shared object file: No such file or directory\n",
      "2022-11-14 15:14:08.562524: W tensorflow/compiler/tf2tensorrt/utils/py_utils.cc:38] TF-TRT Warning: Cannot dlopen some TensorRT libraries. If you would like to use Nvidia GPU with TensorRT, please make sure the missing libraries mentioned above are installed properly.\n"
     ]
    }
   ],
   "source": [
    "import tensorflow_datasets as tfds\n",
    "import tensorflow as tf\n",
    "from tensorflow.keras.layers import Dense\n",
    "import numpy as np\n",
    "import matplotlib.pyplot as plt"
   ]
  },
  {
   "cell_type": "code",
   "execution_count": 2,
   "id": "5c255cb3",
   "metadata": {},
   "outputs": [
    {
     "name": "stderr",
     "output_type": "stream",
     "text": [
      "2022-11-14 15:14:10.200277: W tensorflow/stream_executor/platform/default/dso_loader.cc:64] Could not load dynamic library 'libcuda.so.1'; dlerror: libcuda.so.1: cannot open shared object file: No such file or directory\n",
      "2022-11-14 15:14:10.200301: W tensorflow/stream_executor/cuda/cuda_driver.cc:263] failed call to cuInit: UNKNOWN ERROR (303)\n",
      "2022-11-14 15:14:10.200316: I tensorflow/stream_executor/cuda/cuda_diagnostics.cc:156] kernel driver does not appear to be running on this host (maries-debian): /proc/driver/nvidia/version does not exist\n",
      "2022-11-14 15:14:10.200537: I tensorflow/core/platform/cpu_feature_guard.cc:193] This TensorFlow binary is optimized with oneAPI Deep Neural Network Library (oneDNN) to use the following CPU instructions in performance-critical operations:  AVX2 AVX512F AVX512_VNNI FMA\n",
      "To enable them in other operations, rebuild TensorFlow with the appropriate compiler flags.\n"
     ]
    }
   ],
   "source": [
    "(train_ds, test_ds), ds_info = tfds.load('mnist', split =['train', 'test'],\n",
    "                                               as_supervised =True , with_info = True )"
   ]
  },
  {
   "cell_type": "code",
   "execution_count": 3,
   "id": "89d665c4",
   "metadata": {},
   "outputs": [
    {
     "name": "stdout",
     "output_type": "stream",
     "text": [
      "tfds.core.DatasetInfo(\n",
      "    name='mnist',\n",
      "    full_name='mnist/3.0.1',\n",
      "    description=\"\"\"\n",
      "    The MNIST database of handwritten digits.\n",
      "    \"\"\",\n",
      "    homepage='http://yann.lecun.com/exdb/mnist/',\n",
      "    data_path='/home/marie/tensorflow_datasets/mnist/3.0.1',\n",
      "    file_format=tfrecord,\n",
      "    download_size=11.06 MiB,\n",
      "    dataset_size=21.00 MiB,\n",
      "    features=FeaturesDict({\n",
      "        'image': Image(shape=(28, 28, 1), dtype=tf.uint8),\n",
      "        'label': ClassLabel(shape=(), dtype=tf.int64, num_classes=10),\n",
      "    }),\n",
      "    supervised_keys=('image', 'label'),\n",
      "    disable_shuffling=False,\n",
      "    splits={\n",
      "        'test': <SplitInfo num_examples=10000, num_shards=1>,\n",
      "        'train': <SplitInfo num_examples=60000, num_shards=1>,\n",
      "    },\n",
      "    citation=\"\"\"@article{lecun2010mnist,\n",
      "      title={MNIST handwritten digit database},\n",
      "      author={LeCun, Yann and Cortes, Corinna and Burges, CJ},\n",
      "      journal={ATT Labs [Online]. Available: http://yann.lecun.com/exdb/mnist},\n",
      "      volume={2},\n",
      "      year={2010}\n",
      "    }\"\"\",\n",
      ")\n"
     ]
    }
   ],
   "source": [
    "print(ds_info)"
   ]
  },
  {
   "cell_type": "markdown",
   "id": "a4d4df35",
   "metadata": {},
   "source": [
    "* How many training/test images are there? 10000 test images and 6000 training images    \n",
    "* What’s the image shape? image shape is (28,28,1)\n",
    "* What range are pixel values in? image values from range 0 to 255\n"
   ]
  },
  {
   "cell_type": "code",
   "execution_count": 4,
   "id": "a4502078",
   "metadata": {},
   "outputs": [
    {
     "name": "stderr",
     "output_type": "stream",
     "text": [
      "2022-11-14 15:14:13.493635: W tensorflow/core/kernels/data/cache_dataset_ops.cc:856] The calling iterator did not fully read the dataset being cached. In order to avoid unexpected truncation of the dataset, the partially cached contents of the dataset  will be discarded. This can happen if you have an input pipeline similar to `dataset.cache().take(k).repeat()`. You should use `dataset.take(k).cache().repeat()` instead.\n"
     ]
    },
    {
     "data": {
      "image/png": "[encoded data removed]",
      "text/plain": [
       "<Figure size 648x648 with 9 Axes>"
      ]
     },
     "metadata": {},
     "output_type": "display_data"
    },
    {
     "data": {
      "image/png": "[encoded data removed]",
      "text/plain": [
       "<Figure size 648x648 with 9 Axes>"
      ]
     },
     "execution_count": 4,
     "metadata": {},
     "output_type": "execute_result"
    }
   ],
   "source": [
    "tfds.show_examples(train_ds, ds_info)"
   ]
  },
  {
   "cell_type": "markdown",
   "id": "821d3cdc",
   "metadata": {},
   "source": [
    "#### 2.2 Data pipeline"
   ]
  },
  {
   "cell_type": "code",
   "execution_count": 5,
   "id": "977f339e",
   "metadata": {},
   "outputs": [],
   "source": [
    "def prepare_mnist_data(mnist):\n",
    "    #flatten the images into vectors\n",
    "    mnist = mnist.map(lambda img, target: (tf.reshape(img, (-1,)), target))\n",
    "    #convert data from uint8 to float32\n",
    "    mnist = mnist.map(lambda img, target: (tf.cast(img, tf.float32), target))\n",
    "    #sloppy input normalization, just bringing image values from range [0, 255] to [-1, 1]\n",
    "    mnist = mnist.map(lambda img, target: ((img/128.)-1., target))\n",
    "    #create one-hot targets\n",
    "    mnist = mnist.map(lambda img, target: (img, tf.one_hot(target, depth=10)))\n",
    "    #cache this progress in memory, as there is no need to redo it; it is deterministic after all\n",
    "    mnist = mnist.cache()\n",
    "    #shuffle, batch, prefetch\n",
    "    mnist = mnist.shuffle(1000)\n",
    "    mnist = mnist.batch(32)\n",
    "    mnist = mnist.prefetch(20)\n",
    "    #return preprocessed dataset\n",
    "    return mnist\n",
    "\n",
    "train_dataset = train_ds.apply(prepare_mnist_data)\n",
    "test_dataset = test_ds.apply(prepare_mnist_data)"
   ]
  },
  {
   "cell_type": "markdown",
   "id": "6a4f9ac1",
   "metadata": {},
   "source": [
    "#### 2.3 Deep Neural Network "
   ]
  },
  {
   "cell_type": "code",
   "execution_count": 6,
   "id": "9a3aa06a",
   "metadata": {},
   "outputs": [],
   "source": [
    "class FFNN(tf.keras.Model):\n",
    "    \n",
    "    def __init__(self):\n",
    "        super(FFNN, self).__init__()\n",
    "        # 2 hidden layers with 256 units each \n",
    "        self.dense1 = tf.keras.layers.Dense(256, activation=tf.nn.relu)\n",
    "        self.dense2 = tf.keras.layers.Dense(256, activation=tf.nn.relu)\n",
    "        # 10 units for output layer since there are 10 digits to classify\n",
    "        self.out = tf.keras.layers.Dense(10, activation=tf.nn.softmax)\n",
    "\n",
    "    @tf.function\n",
    "    def call(self, inputs):\n",
    "        x = self.dense1(inputs)\n",
    "        x = self.dense2(x)\n",
    "        x = self.out(x)\n",
    "        return x"
   ]
  },
  {
   "cell_type": "markdown",
   "id": "dcc7e65a",
   "metadata": {},
   "source": [
    "#### 2.4 Training"
   ]
  },
  {
   "cell_type": "code",
   "execution_count": 7,
   "id": "2980ea38",
   "metadata": {},
   "outputs": [],
   "source": [
    "def train_step(model, input, target, loss_function, optimizer):\n",
    "  # loss_object and optimizer_object are instances of respective tensorflow classes\n",
    "    with tf.GradientTape() as tape:\n",
    "        prediction = model(input)\n",
    "        loss = loss_function(target, prediction)\n",
    "        accuracy =  np.argmax(target, axis=1) == np.argmax(prediction, axis=1)\n",
    "        accuracy = np.mean(accuracy)\n",
    "    gradients = tape.gradient(loss, model.trainable_variables)\n",
    "    optimizer.apply_gradients(zip(gradients, model.trainable_variables))\n",
    "    return loss, accuracy\n",
    "\n",
    "\n",
    "def test(model, test_data, loss_function):\n",
    "  # test over complete test data\n",
    "    test_accuracy_aggregator = []\n",
    "    test_loss_aggregator = []\n",
    "    \n",
    "    for (input, target) in test_data:\n",
    "        prediction = model(input)\n",
    "        sample_test_loss = loss_function(target, prediction)\n",
    "        sample_test_accuracy =  np.argmax(target, axis=1) == np.argmax(prediction, axis=1)\n",
    "        sample_test_accuracy = np.mean(sample_test_accuracy)\n",
    "        test_loss_aggregator.append(sample_test_loss.numpy())\n",
    "        test_accuracy_aggregator.append(np.mean(sample_test_accuracy))\n",
    "    \n",
    "    test_loss = tf.reduce_mean(test_loss_aggregator)\n",
    "    test_accuracy = tf.reduce_mean(test_accuracy_aggregator)\n",
    "\n",
    "    return test_loss, test_accuracy"
   ]
  },
  {
   "cell_type": "code",
   "execution_count": 9,
   "id": "680277df",
   "metadata": {},
   "outputs": [
    {
     "name": "stdout",
     "output_type": "stream",
     "text": [
      "Epoch: 0 starting with accuracy 0.08945686900958466\n",
      "Epoch: 1 starting with accuracy 0.9566693290734825\n",
      "Epoch: 2 starting with accuracy 0.959564696485623\n",
      "Epoch: 3 starting with accuracy 0.9762380191693291\n",
      "Epoch: 4 starting with accuracy 0.9725439297124601\n",
      "Epoch: 5 starting with accuracy 0.9739416932907349\n",
      "Epoch: 6 starting with accuracy 0.9678514376996805\n",
      "Epoch: 7 starting with accuracy 0.9740415335463258\n",
      "Epoch: 8 starting with accuracy 0.9767372204472844\n",
      "Epoch: 9 starting with accuracy 0.9717452076677316\n"
     ]
    }
   ],
   "source": [
    "# hyperparameters\n",
    "num_epochs = 10\n",
    "learning_rate = 0.1\n",
    "\n",
    "# model initialization \n",
    "model = FFNN()\n",
    "# loss initialization (categorical cross entropy loss) \n",
    "cross_entropy_loss = tf.keras.losses.CategoricalCrossentropy()\n",
    "# optimizer initialization (Stochastic Gradient Descent) \n",
    "optimizer = tf.keras.optimizers.SGD(learning_rate)\n",
    "\n",
    "# initialization lists for training\n",
    "train_losses = []\n",
    "test_losses = []\n",
    "test_accuracies = []\n",
    "train_accuracies = []\n",
    "\n",
    "# testing on untrained model  \n",
    "test_loss, test_accuracy = test(model, test_dataset, cross_entropy_loss)\n",
    "test_losses.append(test_loss)\n",
    "test_accuracies.append(test_accuracy)\n",
    "\n",
    "# loss of untrained model\n",
    "train_loss, train_accuracy = test(model, train_dataset, cross_entropy_loss)\n",
    "train_losses.append(train_loss)\n",
    "train_accuracies.append(train_accuracy)\n",
    "\n",
    "# We train for num_epochs epochs.\n",
    "for epoch in range(num_epochs):\n",
    "    print(f'Epoch: {str(epoch)} starting with accuracy {test_accuracies[-1]}')\n",
    "\n",
    "    #training (and checking in with training)\n",
    "    epoch_loss_agg = []\n",
    "    epoch_accuracy_agg = []\n",
    "    for input,target in train_dataset:\n",
    "        train_loss, train_accuracy = train_step(model, input, target, cross_entropy_loss, optimizer)\n",
    "        epoch_loss_agg.append(train_loss)\n",
    "        epoch_accuracy_agg.append(train_accuracy)\n",
    "    \n",
    "    #track training loss\n",
    "    train_losses.append(tf.reduce_mean(epoch_loss_agg))\n",
    "    train_accuracies.append(tf.reduce_mean(epoch_accuracy_agg))\n",
    "\n",
    "    #testing, so we can track accuracy and test loss\n",
    "    test_loss, test_accuracy = test(model, test_dataset, cross_entropy_loss)\n",
    "    test_losses.append(test_loss)\n",
    "    test_accuracies.append(test_accuracy)"
   ]
  },
  {
   "cell_type": "markdown",
   "id": "5772d0cb",
   "metadata": {},
   "source": [
    "#### 2.5 Visualization"
   ]
  },
  {
   "cell_type": "code",
   "execution_count": 10,
   "id": "a3ec2411",
   "metadata": {},
   "outputs": [],
   "source": [
    "def visualization (train_losses, test_losses, test_accuracies, train_accuracies):\n",
    "    z = np.linspace(0, 1, 11)\n",
    "   \n",
    "    \n",
    "    line1 , = plt.plot(z, train_losses , \"b-\")\n",
    "    line2 , = plt.plot(z, test_losses , \"r-\")\n",
    "    line3 , = plt.plot(z, test_accuracies , \"b:\")\n",
    "    line4 , = plt.plot(z, train_accuracies , \"r:\")\n",
    "    \n",
    "    plt.xlabel(\" Training steps \")\n",
    "    plt.ylabel(\" Loss / Accuracy \")\n",
    "    plt.legend(( line1 , line2 , line3, line4),(\" training loss \", \" test loss \", \" test accuracy \", \" train accuracy \"))\n",
    "    plt.show()"
   ]
  },
  {
   "cell_type": "code",
   "execution_count": 11,
   "id": "77bd3e96",
   "metadata": {},
   "outputs": [
    {
     "data": {
      "image/png": "[encoded data removed]",
      "text/plain": [
       "<Figure size 432x288 with 1 Axes>"
      ]
     },
     "metadata": {
      "needs_background": "light"
     },
     "output_type": "display_data"
    }
   ],
   "source": [
    "visualization(train_losses, test_losses ,test_accuracies, train_accuracies)"
   ]
  },
  {
   "cell_type": "markdown",
   "id": "6f8772d5",
   "metadata": {},
   "source": [
    "### Assignment 3 Hyperparameters"
   ]
  },
  {
   "cell_type": "markdown",
   "id": "e840d738",
   "metadata": {},
   "source": [
    "* original setting: jumps from 10% testing accuracy to 95% in the second epoch and then slowly gets better up to 97.5 % \n",
    "\n",
    "* learning_rate = 0.01 and added third dense layer: very similar to original setting but slightly lower accuracy is reached (lower learning_rate and additional layer seem to equal each other out?)\n",
    "\n",
    "* learning_rate = 0.01, 2 dense layer with 500 units each: looks similar to the cases above \n",
    "\n",
    "* learning_rate = 0.01, 2 dense layer with 256, batch size = 12: looks similar again; runs a lot lower; accuracy did not change between epoch 3 and 4; and between 5 and 6 very low improvement; but continous improvement with no step-backs! and reaches highest accuracy in the end (only small difference but still the best so far)\n"
   ]
  }
 ],
 "metadata": {
  "kernelspec": {
   "display_name": "iannwtf",
   "language": "python",
   "name": "iannwtf"
  },
  "language_info": {
   "codemirror_mode": {
    "name": "ipython",
    "version": 3
   },
   "file_extension": ".py",
   "mimetype": "text/x-python",
   "name": "python",
   "nbconvert_exporter": "python",
   "pygments_lexer": "ipython3",
   "version": "3.10.6"
  }
 },
 "nbformat": 4,
 "nbformat_minor": 5
}
